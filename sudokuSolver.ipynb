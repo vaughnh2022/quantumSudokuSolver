{
 "cells": [
  {
   "cell_type": "code",
   "execution_count": 31,
   "metadata": {},
   "outputs": [],
   "source": [
    "#Numbers and graphing imports\n",
    "import matplotlib.pyplot as plt\n",
    "import numpy as np\n",
    "import math\n",
    "\n",
    "# Qiskit imports\n",
    "from qiskit import QuantumCircuit, ClassicalRegister, QuantumRegister\n",
    "from qiskit.visualization import plot_histogram\n",
    "from qiskit import QuantumCircuit, transpile\n",
    "from qiskit_aer import AerSimulator"
   ]
  },
  {
   "cell_type": "code",
   "execution_count": 32,
   "metadata": {},
   "outputs": [],
   "source": [
    "def xor(circuit, qOne, qTwo, qOutput):\n",
    "    circuit.cx(qOne, qOutput)\n",
    "    circuit.cx(qTwo, qOutput)"
   ]
  },
  {
   "cell_type": "code",
   "execution_count": 33,
   "metadata": {},
   "outputs": [
    {
     "data": {
      "text/html": [
       "<pre style=\"word-wrap: normal;white-space: pre;background: #fff0;line-height: 1.1;font-family: &quot;Courier New&quot;,Courier,monospace\">                \n",
       "in_0: ──■───────\n",
       "        │       \n",
       "in_1: ──┼────■──\n",
       "      ┌─┴─┐┌─┴─┐\n",
       " out: ┤ X ├┤ X ├\n",
       "      └───┘└───┘</pre>"
      ],
      "text/plain": [
       "                \n",
       "in_0: ──■───────\n",
       "        │       \n",
       "in_1: ──┼────■──\n",
       "      ┌─┴─┐┌─┴─┐\n",
       " out: ┤ X ├┤ X ├\n",
       "      └───┘└───┘"
      ]
     },
     "execution_count": 33,
     "metadata": {},
     "output_type": "execute_result"
    }
   ],
   "source": [
    "#basic xor gate visulatization\n",
    "inQ = QuantumRegister(2, name='in')\n",
    "outQ = QuantumRegister(1, name='out')\n",
    "qc = QuantumCircuit(inQ, outQ)\n",
    "xor(qc, inQ[0], inQ[1], outQ)\n",
    "qc.draw()"
   ]
  },
  {
   "cell_type": "code",
   "execution_count": 34,
   "metadata": {},
   "outputs": [],
   "source": [
    "#diffusion gate, used in grovers algorithm\n",
    "def diffuser():\n",
    "    circuit = QuantumCircuit(4)\n",
    "\n",
    "    # Applies H gate to all qibits in input register\n",
    "    for q in range(4):\n",
    "        circuit.h(q)\n",
    "\n",
    "    # Applies X gate to all qibits in input register\n",
    "    for q in range(4):\n",
    "        circuit.x(q)\n",
    "\n",
    "    # Do multi controlled z gate\n",
    "    circuit.h(3)\n",
    "    qibitList = list(range(3))\n",
    "    circuit.mcx(qibitList, 3)\n",
    "    circuit.h(3)\n",
    "\n",
    "    # Applies X gate to all qibits in input register\n",
    "    for q in range(4):\n",
    "        circuit.x(q)\n",
    "\n",
    "    # Applies H gate to all qibits in input register\n",
    "    for q in range(4):\n",
    "        circuit.h(q)\n",
    "\n",
    "    # update to gate    \n",
    "    diffGate = circuit.to_gate()\n",
    "    diffGate.name = \"diffusion\"\n",
    "    return diffGate"
   ]
  },
  {
   "cell_type": "code",
   "execution_count": 35,
   "metadata": {},
   "outputs": [],
   "source": [
    "comparisionList = [[0,1],[0,2],[1,3],[2,3]]"
   ]
  },
  {
   "cell_type": "markdown",
   "metadata": {},
   "source": [
    "comparision list for a 2x2 sudoku like the one below"
   ]
  },
  {
   "cell_type": "markdown",
   "metadata": {},
   "source": [
    "<div style=\"display: grid; grid-template-columns: 1fr 1fr; width: 200px; height: 200px; border: 1px solid black;\">\n",
    "  <div style=\"border: 1px solid black; display: flex; justify-content: center; align-items: center;\">0</div>\n",
    "  <div style=\"border: 1px solid black; display: flex; justify-content: center; align-items: center;\">1</div>\n",
    "  <div style=\"border: 1px solid black; display: flex; justify-content: center; align-items: center;\">2</div>\n",
    "  <div style=\"border: 1px solid black; display: flex; justify-content: center; align-items: center;\">3</div>\n",
    "</div>\n"
   ]
  },
  {
   "cell_type": "code",
   "execution_count": 36,
   "metadata": {},
   "outputs": [],
   "source": [
    "def oracle(circuit,inputReg,midReg,outputReg):\n",
    "    # adds xor statements using all input qibit combiniations \n",
    "    a = 0\n",
    "    for comp in comparisionList:\n",
    "        xor(circuit, comp[0], comp[1], midReg[a])\n",
    "        a += 1\n",
    "\n",
    "    # Flips output if all of midReg is true\n",
    "    circuit.mcx(midReg, outputReg)\n",
    "\n",
    "    #loops adding xor loops again\n",
    "    a = 0\n",
    "    for comp in comparisionList:\n",
    "        xor(circuit, comp[0], comp[1], midReg[a])\n",
    "        a += 1\n",
    "    "
   ]
  },
  {
   "cell_type": "code",
   "execution_count": 37,
   "metadata": {},
   "outputs": [
    {
     "data": {
      "text/html": [
       "<pre style=\"word-wrap: normal;white-space: pre;background: #fff0;line-height: 1.1;font-family: &quot;Courier New&quot;,Courier,monospace\">                                                                                            \n",
       "num_0: ──■─────────■──────────────────────────────────■─────────■───────────────────────────\n",
       "         │         │                                  │         │                           \n",
       "num_1: ──┼────■────┼─────────■────────────────────────┼────■────┼─────────■─────────────────\n",
       "         │    │    │         │                        │    │    │         │                 \n",
       "num_2: ──┼────┼────┼────■────┼─────────■──────────────┼────┼────┼────■────┼─────────■───────\n",
       "         │    │    │    │    │         │              │    │    │    │    │         │       \n",
       "num_3: ──┼────┼────┼────┼────┼────■────┼────■─────────┼────┼────┼────┼────┼────■────┼────■──\n",
       "       ┌─┴─┐┌─┴─┐  │    │    │    │    │    │       ┌─┴─┐┌─┴─┐  │    │    │    │    │    │  \n",
       "  2_0: ┤ X ├┤ X ├──┼────┼────┼────┼────┼────┼────■──┤ X ├┤ X ├──┼────┼────┼────┼────┼────┼──\n",
       "       └───┘└───┘┌─┴─┐┌─┴─┐  │    │    │    │    │  └───┘└───┘┌─┴─┐┌─┴─┐  │    │    │    │  \n",
       "  2_1: ──────────┤ X ├┤ X ├──┼────┼────┼────┼────■────────────┤ X ├┤ X ├──┼────┼────┼────┼──\n",
       "                 └───┘└───┘┌─┴─┐┌─┴─┐  │    │    │            └───┘└───┘┌─┴─┐┌─┴─┐  │    │  \n",
       "  2_2: ────────────────────┤ X ├┤ X ├──┼────┼────■──────────────────────┤ X ├┤ X ├──┼────┼──\n",
       "                           └───┘└───┘┌─┴─┐┌─┴─┐  │                      └───┘└───┘┌─┴─┐┌─┴─┐\n",
       "  2_3: ──────────────────────────────┤ X ├┤ X ├──■────────────────────────────────┤ X ├┤ X ├\n",
       "                                     └───┘└───┘┌─┴─┐                              └───┘└───┘\n",
       "  out: ────────────────────────────────────────┤ X ├────────────────────────────────────────\n",
       "                                               └───┘                                        </pre>"
      ],
      "text/plain": [
       "                                                                                            \n",
       "num_0: ──■─────────■──────────────────────────────────■─────────■───────────────────────────\n",
       "         │         │                                  │         │                           \n",
       "num_1: ──┼────■────┼─────────■────────────────────────┼────■────┼─────────■─────────────────\n",
       "         │    │    │         │                        │    │    │         │                 \n",
       "num_2: ──┼────┼────┼────■────┼─────────■──────────────┼────┼────┼────■────┼─────────■───────\n",
       "         │    │    │    │    │         │              │    │    │    │    │         │       \n",
       "num_3: ──┼────┼────┼────┼────┼────■────┼────■─────────┼────┼────┼────┼────┼────■────┼────■──\n",
       "       ┌─┴─┐┌─┴─┐  │    │    │    │    │    │       ┌─┴─┐┌─┴─┐  │    │    │    │    │    │  \n",
       "  2_0: ┤ X ├┤ X ├──┼────┼────┼────┼────┼────┼────■──┤ X ├┤ X ├──┼────┼────┼────┼────┼────┼──\n",
       "       └───┘└───┘┌─┴─┐┌─┴─┐  │    │    │    │    │  └───┘└───┘┌─┴─┐┌─┴─┐  │    │    │    │  \n",
       "  2_1: ──────────┤ X ├┤ X ├──┼────┼────┼────┼────■────────────┤ X ├┤ X ├──┼────┼────┼────┼──\n",
       "                 └───┘└───┘┌─┴─┐┌─┴─┐  │    │    │            └───┘└───┘┌─┴─┐┌─┴─┐  │    │  \n",
       "  2_2: ────────────────────┤ X ├┤ X ├──┼────┼────■──────────────────────┤ X ├┤ X ├──┼────┼──\n",
       "                           └───┘└───┘┌─┴─┐┌─┴─┐  │                      └───┘└───┘┌─┴─┐┌─┴─┐\n",
       "  2_3: ──────────────────────────────┤ X ├┤ X ├──■────────────────────────────────┤ X ├┤ X ├\n",
       "                                     └───┘└───┘┌─┴─┐                              └───┘└───┘\n",
       "  out: ────────────────────────────────────────┤ X ├────────────────────────────────────────\n",
       "                                               └───┘                                        "
      ]
     },
     "execution_count": 37,
     "metadata": {},
     "output_type": "execute_result"
    }
   ],
   "source": [
    "# example oracle circuit\n",
    "inQ = QuantumRegister(4, name='num')\n",
    "midQ = QuantumRegister(4, name='2')\n",
    "outQ = QuantumRegister(1, name='out')\n",
    "curcuit = QuantumCircuit(inQ, midQ, outQ)\n",
    "oracle(curcuit,inQ,midQ,outQ)\n",
    "curcuit.draw(fold=-1)"
   ]
  },
  {
   "cell_type": "code",
   "execution_count": 38,
   "metadata": {},
   "outputs": [
    {
     "data": {
      "text/html": [
       "<pre style=\"word-wrap: normal;white-space: pre;background: #fff0;line-height: 1.1;font-family: &quot;Courier New&quot;,Courier,monospace\">       ┌───┐      ░                                                                                       ░ ┌────────────┐                                                                                      ░ ┌────────────┐┌─┐         \n",
       " in_0: ┤ H ├──────░───■─────────■──────────────────────────────────■─────────■────────────────────────────░─┤0           ├──■─────────■──────────────────────────────────■─────────■────────────────────────────░─┤0           ├┤M├─────────\n",
       "       ├───┤      ░   │         │                                  │         │                            ░ │            │  │         │                                  │         │                            ░ │            │└╥┘┌─┐      \n",
       " in_1: ┤ H ├──────░───┼────■────┼─────────■────────────────────────┼────■────┼─────────■──────────────────░─┤1           ├──┼────■────┼─────────■────────────────────────┼────■────┼─────────■──────────────────░─┤1           ├─╫─┤M├──────\n",
       "       ├───┤      ░   │    │    │         │                        │    │    │         │                  ░ │  diffusion │  │    │    │         │                        │    │    │         │                  ░ │  diffusion │ ║ └╥┘┌─┐   \n",
       " in_2: ┤ H ├──────░───┼────┼────┼────■────┼─────────■──────────────┼────┼────┼────■────┼─────────■────────░─┤2           ├──┼────┼────┼────■────┼─────────■──────────────┼────┼────┼────■────┼─────────■────────░─┤2           ├─╫──╫─┤M├───\n",
       "       ├───┤      ░   │    │    │    │    │         │              │    │    │    │    │         │        ░ │            │  │    │    │    │    │         │              │    │    │    │    │         │        ░ │            │ ║  ║ └╥┘┌─┐\n",
       " in_3: ┤ H ├──────░───┼────┼────┼────┼────┼────■────┼────■─────────┼────┼────┼────┼────┼────■────┼────■───░─┤3           ├──┼────┼────┼────┼────┼────■────┼────■─────────┼────┼────┼────┼────┼────■────┼────■───░─┤3           ├─╫──╫──╫─┤M├\n",
       "       └───┘      ░ ┌─┴─┐┌─┴─┐  │    │    │    │    │    │       ┌─┴─┐┌─┴─┐  │    │    │    │    │    │   ░ └────────────┘┌─┴─┐┌─┴─┐  │    │    │    │    │    │       ┌─┴─┐┌─┴─┐  │    │    │    │    │    │   ░ └────────────┘ ║  ║  ║ └╥┘\n",
       "mid_0: ───────────░─┤ X ├┤ X ├──┼────┼────┼────┼────┼────┼────■──┤ X ├┤ X ├──┼────┼────┼────┼────┼────┼───░───────────────┤ X ├┤ X ├──┼────┼────┼────┼────┼────┼────■──┤ X ├┤ X ├──┼────┼────┼────┼────┼────┼───░────────────────╫──╫──╫──╫─\n",
       "                  ░ └───┘└───┘┌─┴─┐┌─┴─┐  │    │    │    │    │  └───┘└───┘┌─┴─┐┌─┴─┐  │    │    │    │   ░               └───┘└───┘┌─┴─┐┌─┴─┐  │    │    │    │    │  └───┘└───┘┌─┴─┐┌─┴─┐  │    │    │    │   ░                ║  ║  ║  ║ \n",
       "mid_1: ───────────░───────────┤ X ├┤ X ├──┼────┼────┼────┼────■────────────┤ X ├┤ X ├──┼────┼────┼────┼───░─────────────────────────┤ X ├┤ X ├──┼────┼────┼────┼────■────────────┤ X ├┤ X ├──┼────┼────┼────┼───░────────────────╫──╫──╫──╫─\n",
       "                  ░           └───┘└───┘┌─┴─┐┌─┴─┐  │    │    │            └───┘└───┘┌─┴─┐┌─┴─┐  │    │   ░                         └───┘└───┘┌─┴─┐┌─┴─┐  │    │    │            └───┘└───┘┌─┴─┐┌─┴─┐  │    │   ░                ║  ║  ║  ║ \n",
       "mid_2: ───────────░─────────────────────┤ X ├┤ X ├──┼────┼────■──────────────────────┤ X ├┤ X ├──┼────┼───░───────────────────────────────────┤ X ├┤ X ├──┼────┼────■──────────────────────┤ X ├┤ X ├──┼────┼───░────────────────╫──╫──╫──╫─\n",
       "                  ░                     └───┘└───┘┌─┴─┐┌─┴─┐  │                      └───┘└───┘┌─┴─┐┌─┴─┐ ░                                   └───┘└───┘┌─┴─┐┌─┴─┐  │                      └───┘└───┘┌─┴─┐┌─┴─┐ ░                ║  ║  ║  ║ \n",
       "mid_3: ───────────░───────────────────────────────┤ X ├┤ X ├──■────────────────────────────────┤ X ├┤ X ├─░─────────────────────────────────────────────┤ X ├┤ X ├──■────────────────────────────────┤ X ├┤ X ├─░────────────────╫──╫──╫──╫─\n",
       "       ┌───┐┌───┐ ░                               └───┘└───┘┌─┴─┐                              └───┘└───┘ ░                                             └───┘└───┘┌─┴─┐                              └───┘└───┘ ░                ║  ║  ║  ║ \n",
       "  out: ┤ H ├┤ Z ├─░─────────────────────────────────────────┤ X ├─────────────────────────────────────────░───────────────────────────────────────────────────────┤ X ├─────────────────────────────────────────░────────────────╫──╫──╫──╫─\n",
       "       └───┘└───┘ ░                                         └───┘                                         ░                                                       └───┘                                         ░                ║  ║  ║  ║ \n",
       "ans: 4/══════════════════════════════════════════════════════════════════════════════════════════════════════════════════════════════════════════════════════════════════════════════════════════════════════════════════════════╩══╩══╩══╩═\n",
       "                                                                                                                                                                                                                                 0  1  2  3 </pre>"
      ],
      "text/plain": [
       "       ┌───┐      ░                                                                                       ░ ┌────────────┐                                                                                      ░ ┌────────────┐┌─┐         \n",
       " in_0: ┤ H ├──────░───■─────────■──────────────────────────────────■─────────■────────────────────────────░─┤0           ├──■─────────■──────────────────────────────────■─────────■────────────────────────────░─┤0           ├┤M├─────────\n",
       "       ├───┤      ░   │         │                                  │         │                            ░ │            │  │         │                                  │         │                            ░ │            │└╥┘┌─┐      \n",
       " in_1: ┤ H ├──────░───┼────■────┼─────────■────────────────────────┼────■────┼─────────■──────────────────░─┤1           ├──┼────■────┼─────────■────────────────────────┼────■────┼─────────■──────────────────░─┤1           ├─╫─┤M├──────\n",
       "       ├───┤      ░   │    │    │         │                        │    │    │         │                  ░ │  diffusion │  │    │    │         │                        │    │    │         │                  ░ │  diffusion │ ║ └╥┘┌─┐   \n",
       " in_2: ┤ H ├──────░───┼────┼────┼────■────┼─────────■──────────────┼────┼────┼────■────┼─────────■────────░─┤2           ├──┼────┼────┼────■────┼─────────■──────────────┼────┼────┼────■────┼─────────■────────░─┤2           ├─╫──╫─┤M├───\n",
       "       ├───┤      ░   │    │    │    │    │         │              │    │    │    │    │         │        ░ │            │  │    │    │    │    │         │              │    │    │    │    │         │        ░ │            │ ║  ║ └╥┘┌─┐\n",
       " in_3: ┤ H ├──────░───┼────┼────┼────┼────┼────■────┼────■─────────┼────┼────┼────┼────┼────■────┼────■───░─┤3           ├──┼────┼────┼────┼────┼────■────┼────■─────────┼────┼────┼────┼────┼────■────┼────■───░─┤3           ├─╫──╫──╫─┤M├\n",
       "       └───┘      ░ ┌─┴─┐┌─┴─┐  │    │    │    │    │    │       ┌─┴─┐┌─┴─┐  │    │    │    │    │    │   ░ └────────────┘┌─┴─┐┌─┴─┐  │    │    │    │    │    │       ┌─┴─┐┌─┴─┐  │    │    │    │    │    │   ░ └────────────┘ ║  ║  ║ └╥┘\n",
       "mid_0: ───────────░─┤ X ├┤ X ├──┼────┼────┼────┼────┼────┼────■──┤ X ├┤ X ├──┼────┼────┼────┼────┼────┼───░───────────────┤ X ├┤ X ├──┼────┼────┼────┼────┼────┼────■──┤ X ├┤ X ├──┼────┼────┼────┼────┼────┼───░────────────────╫──╫──╫──╫─\n",
       "                  ░ └───┘└───┘┌─┴─┐┌─┴─┐  │    │    │    │    │  └───┘└───┘┌─┴─┐┌─┴─┐  │    │    │    │   ░               └───┘└───┘┌─┴─┐┌─┴─┐  │    │    │    │    │  └───┘└───┘┌─┴─┐┌─┴─┐  │    │    │    │   ░                ║  ║  ║  ║ \n",
       "mid_1: ───────────░───────────┤ X ├┤ X ├──┼────┼────┼────┼────■────────────┤ X ├┤ X ├──┼────┼────┼────┼───░─────────────────────────┤ X ├┤ X ├──┼────┼────┼────┼────■────────────┤ X ├┤ X ├──┼────┼────┼────┼───░────────────────╫──╫──╫──╫─\n",
       "                  ░           └───┘└───┘┌─┴─┐┌─┴─┐  │    │    │            └───┘└───┘┌─┴─┐┌─┴─┐  │    │   ░                         └───┘└───┘┌─┴─┐┌─┴─┐  │    │    │            └───┘└───┘┌─┴─┐┌─┴─┐  │    │   ░                ║  ║  ║  ║ \n",
       "mid_2: ───────────░─────────────────────┤ X ├┤ X ├──┼────┼────■──────────────────────┤ X ├┤ X ├──┼────┼───░───────────────────────────────────┤ X ├┤ X ├──┼────┼────■──────────────────────┤ X ├┤ X ├──┼────┼───░────────────────╫──╫──╫──╫─\n",
       "                  ░                     └───┘└───┘┌─┴─┐┌─┴─┐  │                      └───┘└───┘┌─┴─┐┌─┴─┐ ░                                   └───┘└───┘┌─┴─┐┌─┴─┐  │                      └───┘└───┘┌─┴─┐┌─┴─┐ ░                ║  ║  ║  ║ \n",
       "mid_3: ───────────░───────────────────────────────┤ X ├┤ X ├──■────────────────────────────────┤ X ├┤ X ├─░─────────────────────────────────────────────┤ X ├┤ X ├──■────────────────────────────────┤ X ├┤ X ├─░────────────────╫──╫──╫──╫─\n",
       "       ┌───┐┌───┐ ░                               └───┘└───┘┌─┴─┐                              └───┘└───┘ ░                                             └───┘└───┘┌─┴─┐                              └───┘└───┘ ░                ║  ║  ║  ║ \n",
       "  out: ┤ H ├┤ Z ├─░─────────────────────────────────────────┤ X ├─────────────────────────────────────────░───────────────────────────────────────────────────────┤ X ├─────────────────────────────────────────░────────────────╫──╫──╫──╫─\n",
       "       └───┘└───┘ ░                                         └───┘                                         ░                                                       └───┘                                         ░                ║  ║  ║  ║ \n",
       "ans: 4/══════════════════════════════════════════════════════════════════════════════════════════════════════════════════════════════════════════════════════════════════════════════════════════════════════════════════════════╩══╩══╩══╩═\n",
       "                                                                                                                                                                                                                                 0  1  2  3 "
      ]
     },
     "execution_count": 38,
     "metadata": {},
     "output_type": "execute_result"
    }
   ],
   "source": [
    "#register and circuit init\n",
    "inQ = QuantumRegister(4,name='in')\n",
    "midQ = QuantumRegister(4,name='mid')\n",
    "outQ = QuantumRegister(1,name='out')\n",
    "ans = ClassicalRegister(4,name='ans')\n",
    "circuit = QuantumCircuit(inQ,midQ,outQ,ans)\n",
    "\n",
    "#**   first barrier **\n",
    "circuit.h(inQ)\n",
    "circuit.h(outQ)\n",
    "circuit.z(outQ)\n",
    "circuit.draw()\n",
    "circuit.barrier()\n",
    "\n",
    "#**   second barrier **\n",
    "oracle(circuit,inQ,midQ,outQ)\n",
    "circuit.barrier()\n",
    "\n",
    "#**   third barrier  **\n",
    "circuit.append(diffuser(), list(range(4)))\n",
    "oracle(circuit,inQ,midQ,outQ)\n",
    "circuit.barrier()\n",
    "\n",
    "#**  forth barrier  **\n",
    "circuit.append(diffuser(),list(range(4)))\n",
    "circuit.measure(inQ,ans)\n",
    "\n",
    "circuit.draw(fold=-1)\n",
    "\n"
   ]
  },
  {
   "cell_type": "code",
   "execution_count": 39,
   "metadata": {},
   "outputs": [
    {
     "data": {
      "image/png": "[encoded data removed]",
      "text/plain": [
       "<Figure size 640x480 with 1 Axes>"
      ]
     },
     "execution_count": 39,
     "metadata": {},
     "output_type": "execute_result"
    }
   ],
   "source": [
    "#run it on a simulator\n",
    "simulator = AerSimulator()\n",
    "transpiled_qc = transpile(circuit, simulator)\n",
    "result = simulator.run(transpiled_qc).result()\n",
    "counts = result.get_counts()\n",
    "plot_histogram(counts)"
   ]
  },
  {
   "cell_type": "markdown",
   "metadata": {},
   "source": [
    "As you can see this quantum agorithm correctly identified that 0110 and 1001 are the inputs that work for 2x2 sudoku"
   ]
  },
  {
   "cell_type": "code",
   "execution_count": null,
   "metadata": {},
   "outputs": [],
   "source": []
  }
 ],
 "metadata": {
  "kernelspec": {
   "display_name": "qiskit",
   "language": "python",
   "name": "python3"
  },
  "language_info": {
   "codemirror_mode": {
    "name": "ipython",
    "version": 3
   },
   "file_extension": ".py",
   "mimetype": "text/x-python",
   "name": "python",
   "nbconvert_exporter": "python",
   "pygments_lexer": "ipython3",
   "version": "3.13.2"
  }
 },
 "nbformat": 4,
 "nbformat_minor": 2
}
